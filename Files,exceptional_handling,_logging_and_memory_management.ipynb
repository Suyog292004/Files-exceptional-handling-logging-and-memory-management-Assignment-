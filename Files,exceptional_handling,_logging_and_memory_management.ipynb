{
  "cells": [
    {
      "cell_type": "markdown",
      "metadata": {
        "id": "aiCc564quOC_"
      },
      "source": [
        "1.What is the difference between interpreted and compiled languages\n",
        "- compiler is code is translated into machine code before execution and generally faster, since it's already compiled and produces a standalone executable file eg-c,c++,rust,go\n",
        "- interpreter is code is executed line by line by an interpreter and generally slower, since it's processed during execution and doesn't produce a separate file; runs directly eg-python,javascript,ruby"
      ]
    },
    {
      "cell_type": "markdown",
      "metadata": {
        "id": "UGfECASdvzqp"
      },
      "source": [
        "2.What is exception handling in Python\n",
        "- exception handling in Python is a way to manage errors that occur during the execution of a program, so it doesn't crash unexpectedly\n",
        "- Instead of stopping the program when an error occurs, Python lets you catch and handle the error using special keywords"
      ]
    },
    {
      "cell_type": "markdown",
      "metadata": {
        "id": "GuFiZuOjwQgf"
      },
      "source": [
        "3.What is the purpose of the finally block in exception handling\n",
        "- the finally block is used to define cleanup actions that must be executed no matter what happens in the try and except blocks"
      ]
    },
    {
      "cell_type": "markdown",
      "metadata": {
        "id": "aeNGaMfKwezG"
      },
      "source": [
        "4.What is logging in Python\n",
        "- logging in Python is the process of recording messages or events that happen while your program runs. It's a great tool for debugging and monitoring and troubleshooting\n",
        "- instead of using print() statements, logging gives you more control, like setting message levels and saving logs to a file"
      ]
    },
    {
      "cell_type": "markdown",
      "metadata": {
        "id": "a86EsjzdxGl1"
      },
      "source": [
        "5.What is the significance of the __del__ method in Python\n",
        "- The __del__ method is a special method in Python, known as a destructor. It's called automatically when an object is about to be destroyed—usually when it's no longer in use and garbage collected\n",
        "\n"
      ]
    },
    {
      "cell_type": "markdown",
      "metadata": {
        "id": "UtixHp-VxfUx"
      },
      "source": [
        "6.What is the difference between import and from ... import in Python\n",
        "- import statement imports the whole module and you need to use the module name to access its functions or classes\n",
        "- from import Imports specific parts from a module you can use them directly without prefixing the module name"
      ]
    },
    {
      "cell_type": "markdown",
      "metadata": {
        "id": "cjZbnGJOyWgf"
      },
      "source": [
        "7.How can you handle multiple exceptions in Python\n",
        "- in Python, multiple exceptions can be handled using multiple except blocks, or by grouping exceptions into a single except block using a tuple\n",
        "- this allows the program to respond differently to different types of errors, making it more robust and user-friendly"
      ]
    },
    {
      "cell_type": "markdown",
      "metadata": {
        "id": "EPKtoWf_znso"
      },
      "source": [
        "8.What is the purpose of the with statement when handling files in Python\n",
        "- the with statement in Python is used for resource management, especially when working with files\n",
        "- it ensures that a file is properly opened and automatically closed, even if an exception occurs during file operations\n",
        "\n"
      ]
    },
    {
      "cell_type": "markdown",
      "metadata": {
        "id": "TwwQGxgkz8FA"
      },
      "source": [
        "9.What is the difference between multithreading and multiprocessing\n",
        "- multithreading and multiprocessing are two techniques used to perform concurrent execution in Python\n",
        "- while both aim to improve performance, especially for large or time-consuming tasks, they work in different ways"
      ]
    },
    {
      "cell_type": "markdown",
      "metadata": {
        "id": "O8GHReF70PEV"
      },
      "source": [
        "10.What are the advantages of using logging in a program\n",
        "- logging in a program provides a systematic way to record events, errors, and status messages during execution\n",
        "- it is especially useful for debugging, monitoring, and maintaining software applications"
      ]
    },
    {
      "cell_type": "markdown",
      "metadata": {
        "id": "FtcCD3G-07ps"
      },
      "source": [
        "11.What is memory management in Python\n",
        "- memory management in Python refers to the process of allocating, using, and releasing memory during the execution of a Python program\n",
        "- python handles memory management automatically, which makes it easier for developers to write efficient code without worrying about low-level memory handling"
      ]
    },
    {
      "cell_type": "markdown",
      "metadata": {
        "id": "7CuY5diz19UI"
      },
      "source": [
        "12.what are the basic steps involved in exception handling in Python\n",
        "- in Python, exception handling allows a program to respond to runtime errors gracefully without crashing\n",
        "- it uses specific keywords to manage errors during execution\n"
      ]
    },
    {
      "cell_type": "markdown",
      "metadata": {
        "id": "w8NqcwDL21m6"
      },
      "source": [
        "13.Why is memory management important in Python\n",
        "- Memory management is crucial in Python because it ensures that the program uses system memory efficiently, safely, and automatically, allowing developers to focus on coding without worrying about low-level memory details"
      ]
    },
    {
      "cell_type": "markdown",
      "metadata": {
        "id": "-NyNFesM3WnX"
      },
      "source": [
        "14.What is the role of try and except in exception handling\n",
        "- the try and except blocks are fundamental components of exception handling in python\n",
        "- they are used to detect and handle runtime errors in a graceful way, preventing the program from crashing"
      ]
    },
    {
      "cell_type": "markdown",
      "metadata": {
        "id": "YqysYkou30hc"
      },
      "source": [
        "15.How does Python's garbage collection system work\n",
        "- python's garbage collection system is designed to automatically manage memory by identifying and freeing up memory occupied by objects that are no longer in use\n",
        "- this helps keep programs efficient and prevents memory leaks"
      ]
    },
    {
      "cell_type": "markdown",
      "metadata": {
        "id": "FdTbrUs94Kqs"
      },
      "source": [
        "16.What is the purpose of the else block in exception handling\n",
        "- the else block is useful for code that should only run if the try block succeeded completely—in other words, it's a clean place to put the code that depends on the try being successful, instead of putting it inside the try block itself"
      ]
    },
    {
      "cell_type": "markdown",
      "metadata": {
        "id": "cLA5ukafCK5R"
      },
      "source": [
        "17.What are the common logging levels in Python\n",
        "- debug,info,warning,error,critical this are the common logging levels in python"
      ]
    },
    {
      "cell_type": "markdown",
      "metadata": {
        "id": "T72DSiAnC8p5"
      },
      "source": [
        "18.What is the difference between os.fork() and multiprocessing in Python\n",
        "- os.fork is creates a child process by duplicating the current process and platform of this unix and linux\n",
        "- multiprocessing is provides a cross-platform, high-level interface for creating and managing processes and platform of this windows,linux,macOS\n",
        "\n",
        "\n"
      ]
    },
    {
      "cell_type": "markdown",
      "metadata": {
        "id": "V9_2_HcID_5g"
      },
      "source": [
        "19.What is the importance of closing a file in Python\n",
        "- there are some importance of the closing files in python free up system resources, flush data to disk, prevents file corruption,allow other program to collect files\n"
      ]
    },
    {
      "cell_type": "markdown",
      "metadata": {
        "id": "mwzWgwB8EsGL"
      },
      "source": [
        "20.What is the difference between file.read() and file.readline() in Python\n",
        "- file.read read the entire file and return type is string and memory usage is high and common use is read all content at once\n",
        "- file.readline is just read one line at time form file and return type is string and memory usage is low and common usage is read line by line"
      ]
    },
    {
      "cell_type": "markdown",
      "metadata": {
        "id": "cByXojKOHNgz"
      },
      "source": [
        "21.What is the logging module in Python used for\n",
        "- the logging module in Python is a built-in tool used to record messages about your program’s execution\n",
        "- tt’s especially useful for debugging, monitoring, and tracking errors — without using a bunch of print() statements"
      ]
    },
    {
      "cell_type": "markdown",
      "metadata": {
        "id": "d0GB8Pl6Hg6i"
      },
      "source": [
        "22.What is the os module in Python used for in file handling\n",
        "- it helps you interact with files and folders beyond just reading/writing — things like creating, deleting, renaming, checking existence, and navigating directories\n"
      ]
    },
    {
      "cell_type": "markdown",
      "metadata": {
        "id": "1JtJsbfWH6Hf"
      },
      "source": [
        "23.What are the challenges associated with memory management in Python\n",
        "- there are many challenges in this memory leaks,circular reference,heavy use of list and dicts,not releasing external resources,mutable default argument,large object in memory,inefficient data structure"
      ]
    },
    {
      "cell_type": "markdown",
      "metadata": {
        "id": "n8uzNGJUI7sT"
      },
      "source": [
        "24.How do you raise an exception manually in Python\n",
        "- you can use built-in exceptions like ValueError, TypeError, etc., or define your own"
      ]
    },
    {
      "cell_type": "markdown",
      "metadata": {
        "id": "6vYbuoSWJQgb"
      },
      "source": [
        "25.Why is it important to use multithreading in certain applications\n",
        "- multithreading is crucial for certain applications as it enables concurrent execution of tasks, leading to improved performance, resource utilization, and responsiveness, especially in applications involving I/O or waiting for external events"
      ]
    },
    {
      "cell_type": "markdown",
      "metadata": {
        "id": "R7d5b1jQXvpI"
      },
      "source": [
        "# Practical question"
      ]
    },
    {
      "cell_type": "code",
      "execution_count": null,
      "metadata": {
        "colab": {
          "base_uri": "https://localhost:8080/"
        },
        "id": "1y3MmiY7ILSa",
        "outputId": "c637fbe9-cee2-48d6-aadf-1a37b888c840"
      },
      "outputs": [
        {
          "name": "stdout",
          "output_type": "stream",
          "text": [
            "file return succesfully\n"
          ]
        }
      ],
      "source": [
        "#1.How can you open a file for writing in Python and write a string to it\n",
        "with open(\"example.txt\", \"w\") as file:\n",
        "    file.write(\"Hello, this is a test message!\")\n",
        "    print(\"file return succesfully\")"
      ]
    },
    {
      "cell_type": "code",
      "execution_count": null,
      "metadata": {
        "colab": {
          "base_uri": "https://localhost:8080/"
        },
        "id": "vaRvf3PuItbG",
        "outputId": "39c7edec-4ca5-4da8-b6c9-cb426ae74022"
      },
      "outputs": [
        {
          "name": "stdout",
          "output_type": "stream",
          "text": [
            "Hello, this is a string written to a file!\n"
          ]
        }
      ],
      "source": [
        "#2.Write a Python program to read the contents of a file and print each line\n",
        "with open('example.txt', 'r') as file:\n",
        "    for line in file:\n",
        "        print(line.strip())"
      ]
    },
    {
      "cell_type": "code",
      "execution_count": null,
      "metadata": {
        "colab": {
          "base_uri": "https://localhost:8080/"
        },
        "id": "uERJALHtJCsX",
        "outputId": "b34e6bb7-701c-471f-f6f9-6f9a76519e70"
      },
      "outputs": [
        {
          "name": "stdout",
          "output_type": "stream",
          "text": [
            "Hello, this is a string written to a file!\n"
          ]
        }
      ],
      "source": [
        "#3.How would you handle a case where the file doesn't exist while trying to open it for reading\n",
        "filename = 'example.txt'\n",
        "try:\n",
        "    with open(filename, 'r') as file:\n",
        "        for line in file:\n",
        "            print(line.strip())\n",
        "except FileNotFoundError:\n",
        "    print(f\"Error: The file '{filename}' does not exist.\")"
      ]
    },
    {
      "cell_type": "code",
      "execution_count": null,
      "metadata": {
        "colab": {
          "base_uri": "https://localhost:8080/"
        },
        "id": "jHpNoM5yJgMB",
        "outputId": "d23ba7e5-269d-486d-e342-d344214d67e3"
      },
      "outputs": [
        {
          "output_type": "stream",
          "name": "stdout",
          "text": [
            "Error: The file 'source.txt' was not found.\n"
          ]
        }
      ],
      "source": [
        "#4.Write a Python script that reads from one file and writes its content to another file\n",
        "def copy_file(source_path, destination_path):\n",
        "    try:\n",
        "        with open(source_path, 'r') as source_file:\n",
        "            content = source_file.read()\n",
        "        with open(destination_path, 'w') as destination_file:\n",
        "            destination_file.write(content)\n",
        "        print(f\"Content successfully copied from {source_path} to {destination_path}\")\n",
        "    except FileNotFoundError:\n",
        "        print(f\"Error: The file '{source_path}' was not found.\")\n",
        "    except IOError as e:\n",
        "        print(f\"I/O error occurred: {e}\")\n",
        "copy_file('source.txt', 'destination.txt')"
      ]
    },
    {
      "cell_type": "code",
      "execution_count": null,
      "metadata": {
        "colab": {
          "base_uri": "https://localhost:8080/"
        },
        "id": "uhnG2ZWKKAKo",
        "outputId": "213bfafa-a225-476a-d1ae-64716f1332c4"
      },
      "outputs": [
        {
          "name": "stdout",
          "output_type": "stream",
          "text": [
            "Error: Cannot divide by zero.\n"
          ]
        }
      ],
      "source": [
        "#5.How would you catch and handle division by zero error in Python\n",
        "try:\n",
        "    numerator = 10\n",
        "    denominator = 0\n",
        "    result = numerator / denominator\n",
        "    print(f\"Result: {result}\")\n",
        "except ZeroDivisionError:\n",
        "    print(\"Error: Cannot divide by zero.\")"
      ]
    },
    {
      "cell_type": "code",
      "execution_count": null,
      "metadata": {
        "colab": {
          "base_uri": "https://localhost:8080/"
        },
        "id": "2BPvGIzcKXjE",
        "outputId": "b644505c-39c1-446a-cbfa-a9c7e019b578"
      },
      "outputs": [
        {
          "name": "stderr",
          "output_type": "stream",
          "text": [
            "ERROR:root:Attempted to divide by zero.\n"
          ]
        },
        {
          "name": "stdout",
          "output_type": "stream",
          "text": [
            "Error occurred. Check the log file: app.log\n"
          ]
        }
      ],
      "source": [
        "#6.Write a Python program that logs an error message to a log file when a division by zero exception occurs\n",
        "import logging\n",
        "logging.basicConfig(\n",
        "    filename='app.log',          # Log file name\n",
        "    level=logging.ERROR,         # Log only errors or higher\n",
        "    format='%(asctime)s - %(levelname)s - %(message)s'\n",
        ")\n",
        "try:\n",
        "    numerator = 10\n",
        "    denominator = 0\n",
        "    result = numerator / denominator\n",
        "except ZeroDivisionError as e:\n",
        "    logging.error(\"Attempted to divide by zero.\")\n",
        "    print(\"Error occurred. Check the log file: app.log\")"
      ]
    },
    {
      "cell_type": "code",
      "execution_count": null,
      "metadata": {
        "colab": {
          "base_uri": "https://localhost:8080/"
        },
        "id": "-XxQeLFjLO49",
        "outputId": "86014d15-bcd9-454c-bc9c-f12daeca39de"
      },
      "outputs": [
        {
          "name": "stderr",
          "output_type": "stream",
          "text": [
            "WARNING:root:This is a warning about something unexpected.\n",
            "ERROR:root:This is an error message for a caught problem.\n"
          ]
        }
      ],
      "source": [
        "#7.How do you log information at different levels (INFO, ERROR, WARNING) in Python using the logging module\n",
        "import logging\n",
        "logging.basicConfig(\n",
        "    filename='app.log',\n",
        "    level=logging.DEBUG,  # Capture all levels from DEBUG and up\n",
        "    format='%(asctime)s - %(levelname)s - %(message)s'\n",
        ")\n",
        "logging.info(\"This is an info message about the flow.\")\n",
        "logging.warning(\"This is a warning about something unexpected.\")\n",
        "logging.error(\"This is an error message for a caught problem.\")"
      ]
    },
    {
      "cell_type": "code",
      "execution_count": null,
      "metadata": {
        "colab": {
          "base_uri": "https://localhost:8080/"
        },
        "id": "OVJUpfX9LyOF",
        "outputId": "b62c192b-7b1d-4d35-ab80-99cd896d0f1d"
      },
      "outputs": [
        {
          "name": "stdout",
          "output_type": "stream",
          "text": [
            "Error: The file 'myfile.txt' does not exist.\n",
            "File operation attempt complete.\n"
          ]
        }
      ],
      "source": [
        "#8.Write a program to handle a file opening error using exception handling\n",
        "def read_file(filename):\n",
        "    try:\n",
        "        with open(filename, 'r') as file:\n",
        "            content = file.read()\n",
        "            print(\"File content:\\n\", content)\n",
        "    except FileNotFoundError:\n",
        "        print(f\"Error: The file '{filename}' does not exist.\")\n",
        "    except PermissionError:\n",
        "        print(f\"Error: You do not have permission to access '{filename}'.\")\n",
        "    except Exception as e:\n",
        "        print(f\"An unexpected error occurred: {e}\")\n",
        "    finally:\n",
        "        print(\"File operation attempt complete.\")\n",
        "read_file(\"myfile.txt\")  # Replace with a file name to test"
      ]
    },
    {
      "cell_type": "code",
      "execution_count": null,
      "metadata": {
        "colab": {
          "base_uri": "https://localhost:8080/"
        },
        "id": "aQr4bGOvCNXk",
        "outputId": "2d23e3ab-0908-4edd-9251-0d0fee6fb630"
      },
      "outputs": [
        {
          "name": "stdout",
          "output_type": "stream",
          "text": [
            "['Hello, this is a test message!']\n"
          ]
        }
      ],
      "source": [
        "#9.How can you read a file line by line and store its content in a list in Python\n",
        "def read_lines_to_list(filename):\n",
        "    try:\n",
        "        with open(filename, 'r') as file:\n",
        "            lines = file.readlines()\n",
        "            lines = [line.strip() for line in lines]  # Remove newline characters\n",
        "        return lines\n",
        "    except FileNotFoundError:\n",
        "        print(f\"Error: The file '{filename}' was not found.\")\n",
        "        return []\n",
        "file_data = read_lines_to_list(\"example.txt\")\n",
        "print(file_data)\n"
      ]
    },
    {
      "cell_type": "code",
      "execution_count": null,
      "metadata": {
        "colab": {
          "base_uri": "https://localhost:8080/"
        },
        "id": "lj8jadyMN_V5",
        "outputId": "83428454-3297-4ed4-a299-634bd91b12a1"
      },
      "outputs": [
        {
          "name": "stdout",
          "output_type": "stream",
          "text": [
            "✅ Data appended to 'suyog.txt' successfully.\n"
          ]
        }
      ],
      "source": [
        "#10.How can you append data to an existing file in Python\n",
        "filename = 'suyog.txt'\n",
        "try:\n",
        "    with open(filename, 'a') as file:\n",
        "        file.write('This is a new line being appended.\\n')\n",
        "    print(f\"✅ Data appended to '{filename}' successfully.\")\n",
        "except Exception as e:\n",
        "    print(f\"❌ Error: {e}\")"
      ]
    },
    {
      "cell_type": "code",
      "execution_count": null,
      "metadata": {
        "colab": {
          "base_uri": "https://localhost:8080/"
        },
        "id": "am3r7Mb2SMS1",
        "outputId": "199cd993-ca77-4ad8-c26d-8f962721828d"
      },
      "outputs": [
        {
          "name": "stdout",
          "output_type": "stream",
          "text": [
            "Error: 'city' key not found in the dictionary.\n"
          ]
        }
      ],
      "source": [
        "#11.Write a Python program that uses a try-except block to handle an error when attempting to access a\n",
        "#dictionary key that doesn't exist\n",
        "person = {\n",
        "    \"name\": \"Alice\",\n",
        "    \"age\": 30\n",
        "}\n",
        "\n",
        "try:\n",
        "    print(\"City:\", person[\"city\"])\n",
        "except KeyError:\n",
        "    print(\"Error: 'city' key not found in the dictionary.\")"
      ]
    },
    {
      "cell_type": "code",
      "execution_count": null,
      "metadata": {
        "colab": {
          "base_uri": "https://localhost:8080/"
        },
        "id": "5Do0yBnxShVq",
        "outputId": "418c3c95-1dd2-440c-c4c0-f7013c174c04"
      },
      "outputs": [
        {
          "name": "stdout",
          "output_type": "stream",
          "text": [
            "Enter a number: 10\n",
            "Error: The key you're trying to access doesn't exist in the dictionary.\n"
          ]
        }
      ],
      "source": [
        "#12.Write a program that demonstrates using multiple except blocks to handle different types of exceptions\n",
        "try:\n",
        "    number = int(input(\"Enter a number: \"))\n",
        "    result = 10 / number\n",
        "    data = {'name': 'Alice'}\n",
        "    print(\"Age:\", data['age'])\n",
        "except ZeroDivisionError:\n",
        "    print(\"Error: You tried to divide by zero.\")\n",
        "except ValueError:\n",
        "    print(\"Error: Please enter a valid integer.\")\n",
        "except KeyError:\n",
        "    print(\"Error: The key you're trying to access doesn't exist in the dictionary.\")\n",
        "except Exception as e:\n",
        "    print(f\"An unexpected error occurred: {e}\")"
      ]
    },
    {
      "cell_type": "code",
      "execution_count": null,
      "metadata": {
        "colab": {
          "base_uri": "https://localhost:8080/"
        },
        "id": "XcDqDzSRS0a4",
        "outputId": "0f6c74a3-06df-48d1-9bd3-328f05f9fcbb"
      },
      "outputs": [
        {
          "name": "stdout",
          "output_type": "stream",
          "text": [
            "Hello, this is a test message!\n"
          ]
        }
      ],
      "source": [
        "#13.How would you check if a file exists before attempting to read it in Python\n",
        "import os\n",
        "filename = 'example.txt'\n",
        "if os.path.exists(filename):\n",
        "    with open(filename, 'r') as file:\n",
        "        content = file.read()\n",
        "        print(content)\n",
        "else:\n",
        "    print(f\"Error: File '{filename}' does not exist.\")"
      ]
    },
    {
      "cell_type": "code",
      "execution_count": null,
      "metadata": {
        "colab": {
          "base_uri": "https://localhost:8080/"
        },
        "id": "injyuWDeTKrc",
        "outputId": "cca39076-edf9-4565-9923-41577abc0f42"
      },
      "outputs": [
        {
          "name": "stderr",
          "output_type": "stream",
          "text": [
            "ERROR:root:Division by zero attempted.\n"
          ]
        }
      ],
      "source": [
        "#14. Write a program that uses the logging module to log both informational and error messages\n",
        "import logging\n",
        "logging.basicConfig(\n",
        "    filename='app.log',\n",
        "    level=logging.INFO,\n",
        "    format='%(asctime)s - %(levelname)s - %(message)s'\n",
        ")\n",
        "def divide(a, b):\n",
        "    try:\n",
        "        logging.info(f\"Attempting to divide {a} by {b}\")\n",
        "        result = a / b\n",
        "        logging.info(f\"Division successful: {a} / {b} = {result}\")\n",
        "        return result\n",
        "    except ZeroDivisionError:\n",
        "        logging.error(\"Division by zero attempted.\")\n",
        "        return None\n",
        "divide(10, 2)\n",
        "divide(5, 0)"
      ]
    },
    {
      "cell_type": "code",
      "execution_count": null,
      "metadata": {
        "colab": {
          "base_uri": "https://localhost:8080/"
        },
        "id": "p9o1rZ-UOeqH",
        "outputId": "eeef8bf6-8327-4319-b77b-dc80d85ccb3f"
      },
      "outputs": [
        {
          "name": "stdout",
          "output_type": "stream",
          "text": [
            "File Content:\n",
            " Hello, this is a test message!\n",
            "File operation complete.\n"
          ]
        }
      ],
      "source": [
        "#15.Write a Python program that prints the content of a file and handles the case when the file is empty\n",
        "def print_file_content(filename):\n",
        "    try:\n",
        "        with open(filename, 'r') as file:\n",
        "            content = file.read()\n",
        "\n",
        "            if content.strip():  # Check if content is not just whitespace\n",
        "                print(\"File Content:\\n\", content)\n",
        "            else:\n",
        "                print(f\"The file '{filename}' is empty.\")\n",
        "\n",
        "    except FileNotFoundError:\n",
        "        print(f\"Error: The file '{filename}' does not exist.\")\n",
        "    except Exception as e:\n",
        "        print(f\"An unexpected error occurred: {e}\")\n",
        "    finally:\n",
        "        print(\"File operation complete.\")\n",
        "\n",
        "# Example usage\n",
        "print_file_content(\"example.txt\")\n"
      ]
    },
    {
      "cell_type": "code",
      "execution_count": null,
      "metadata": {
        "colab": {
          "base_uri": "https://localhost:8080/"
        },
        "id": "hWmjuOGHPhk2",
        "outputId": "5fff3d12-a60d-4cc6-8d3b-961f6749e5b9"
      },
      "outputs": [
        {
          "name": "stdout",
          "output_type": "stream",
          "text": [
            "Numbers written to 'numbers.txt' successfully.\n"
          ]
        }
      ],
      "source": [
        "#17.Write a Python program to create and write a list of numbers to a file, one number per line\n",
        "numbers = [10, 20, 30, 40, 50]\n",
        "filename = 'numbers.txt'\n",
        "try:\n",
        "    with open(filename, 'w') as file:\n",
        "        for number in numbers:\n",
        "            file.write(f\"{number}\\n\")  # Write each number followed by a newline\n",
        "    print(f\"Numbers written to '{filename}' successfully.\")\n",
        "except Exception as e:\n",
        "    print(f\"Error: {e}\")\n",
        "\n"
      ]
    },
    {
      "cell_type": "code",
      "execution_count": null,
      "metadata": {
        "id": "EGeU1zIVS1eI",
        "colab": {
          "base_uri": "https://localhost:8080/"
        },
        "outputId": "41f96fe8-3043-411f-8c92-87fc492ea927"
      },
      "outputs": [
        {
          "output_type": "stream",
          "name": "stderr",
          "text": [
            "DEBUG:my_logger:Debug message\n",
            "INFO:my_logger:Info message\n",
            "WARNING:my_logger:Warning message\n",
            "ERROR:my_logger:Error message\n",
            "CRITICAL:my_logger:Critical message\n"
          ]
        }
      ],
      "source": [
        "#18.How would you implement a basic logging setup that logs to a file with rotation after 1MB\n",
        "import logging\n",
        "from logging.handlers import RotatingFileHandler\n",
        "logger = logging.getLogger(\"my_logger\")\n",
        "logger.setLevel(logging.DEBUG)\n",
        "handler = RotatingFileHandler(\n",
        "    \"app.log\",       # Log file name\n",
        "    maxBytes=1 * 1024 * 1024,  # 1MB = 1 * 1024 * 1024 bytes\n",
        "    backupCount=3    # Keep 3 old log files\n",
        ")\n",
        "formatter = logging.Formatter('%(asctime)s - %(levelname)s - %(message)s')\n",
        "handler.setFormatter(formatter)\n",
        "logger.addHandler(handler)\n",
        "logger.debug(\"Debug message\")\n",
        "logger.info(\"Info message\")\n",
        "logger.warning(\"Warning message\")\n",
        "logger.error(\"Error message\")\n",
        "logger.critical(\"Critical message\")"
      ]
    },
    {
      "cell_type": "code",
      "execution_count": null,
      "metadata": {
        "colab": {
          "base_uri": "https://localhost:8080/"
        },
        "id": "xigqLwjiUzNq",
        "outputId": "7a69d1dc-47a0-47ca-ee2f-ca9118f54322"
      },
      "outputs": [
        {
          "name": "stdout",
          "output_type": "stream",
          "text": [
            "IndexError: You tried to access an invalid index in the list.\n"
          ]
        }
      ],
      "source": [
        "#19.Write a program that handles both IndexError and KeyError using a try-except block\n",
        "my_list = [1, 2, 3]\n",
        "my_dict = {\"name\": \"Alice\", \"age\": 30}\n",
        "try:\n",
        "    print(\"List element at index 5:\", my_list[5])\n",
        "    print(\"City:\", my_dict[\"city\"])\n",
        "except IndexError:\n",
        "    print(\"IndexError: You tried to access an invalid index in the list.\")\n",
        "except KeyError:\n",
        "    print(\"KeyError: The key you are trying to access doesn't exist in the dictionary.\")\n"
      ]
    },
    {
      "cell_type": "code",
      "execution_count": null,
      "metadata": {
        "colab": {
          "base_uri": "https://localhost:8080/"
        },
        "id": "MQQbKviHVj1M",
        "outputId": "8e5e8f40-61f0-4a59-aac8-fe90a6b847a7"
      },
      "outputs": [
        {
          "output_type": "stream",
          "name": "stdout",
          "text": [
            "Error: The file 'example.txt' was not found.\n"
          ]
        }
      ],
      "source": [
        "#21.Write a Python program that reads a file and prints the number of occurrences of a specific word\n",
        "def count_word_occurrences(file_path, word_to_count):\n",
        "    count = 0\n",
        "    word_to_count = word_to_count.lower()\n",
        "    try:\n",
        "        with open(file_path, 'r') as file:\n",
        "            for line in file:\n",
        "                words = line.lower().split()\n",
        "                count += words.count(word_to_count)\n",
        "        print(f\"The word '{word_to_count}' occurred {count} times in the file.\")\n",
        "    except FileNotFoundError:\n",
        "        print(f\"Error: The file '{file_path}' was not found.\")\n",
        "    except Exception as e:\n",
        "        print(f\"An unexpected error occurred: {e}\")\n",
        "file_name = \"example.txt\"\n",
        "word = \"python\"\n",
        "count_word_occurrences(file_name, word)"
      ]
    },
    {
      "cell_type": "code",
      "execution_count": null,
      "metadata": {
        "colab": {
          "base_uri": "https://localhost:8080/"
        },
        "id": "2U_l3HrTWBj3",
        "outputId": "92c2a808-41ec-4e55-d08d-28de3a063500"
      },
      "outputs": [
        {
          "output_type": "stream",
          "name": "stdout",
          "text": [
            "File does not exist.\n"
          ]
        }
      ],
      "source": [
        "#22.How can you check if a file is empty before attempting to read its contents\n",
        "import os\n",
        "file_path = \"example.txt\"\n",
        "if os.path.exists(file_path):\n",
        "    if os.path.getsize(file_path) == 0:\n",
        "        print(\"The file is empty.\")\n",
        "    else:\n",
        "        with open(file_path, 'r') as file:\n",
        "            contents = file.read()\n",
        "            print(contents)else:\n",
        "    print(\"File does not exist.\")\n"
      ]
    },
    {
      "cell_type": "code",
      "execution_count": null,
      "metadata": {
        "colab": {
          "base_uri": "https://localhost:8080/"
        },
        "id": "lBDWm_F3WcJX",
        "outputId": "7917a19e-97df-4eaa-e6a0-674df8b0b053"
      },
      "outputs": [
        {
          "name": "stderr",
          "output_type": "stream",
          "text": [
            "ERROR:root:File not found: non_existent_file.txt\n"
          ]
        },
        {
          "name": "stdout",
          "output_type": "stream",
          "text": [
            "Error: File not found. Check log for details.\n"
          ]
        }
      ],
      "source": [
        "#23.Write a Python program that writes to a log file when an error occurs during file handling\n",
        "import logging\n",
        "logging.basicConfig(\n",
        "    filename='file_errors.log',\n",
        "    level=logging.ERROR,\n",
        "    format='%(asctime)s - %(levelname)s - %(message)s'\n",
        ")\n",
        "filename = 'non_existent_file.txt'\n",
        "try:\n",
        "    with open(filename, 'r') as file:\n",
        "        content = file.read()\n",
        "        print(\"File Content:\")\n",
        "        print(content)\n",
        "except FileNotFoundError as e:\n",
        "    logging.error(f\"File not found: {filename}\")\n",
        "    print(\"Error: File not found. Check log for details.\")\n",
        "except Exception as e:\n",
        "    logging.error(f\"An unexpected error occurred: {e}\")\n",
        "    print(\"Error: Something went wrong. Check log for details.\")"
      ]
    }
  ],
  "metadata": {
    "colab": {
      "provenance": []
    },
    "kernelspec": {
      "display_name": "Python 3",
      "name": "python3"
    },
    "language_info": {
      "name": "python"
    }
  },
  "nbformat": 4,
  "nbformat_minor": 0
}